{
 "cells": [
  {
   "cell_type": "code",
   "execution_count": 1,
   "metadata": {},
   "outputs": [],
   "source": [
    "%load_ext autoreload\n",
    "%autoreload 2"
   ]
  },
  {
   "cell_type": "code",
   "execution_count": null,
   "metadata": {},
   "outputs": [],
   "source": [
    "# Parameters\n",
    "BASE_PATH=\"../../\"\n",
    "INPUT_VIDEO_FILENAME = BASE_PATH+'media/bariloche_15_julio_2017.mp4'\n",
    "\n",
    "OBJECT_DETECTION_SERVICE_ENDPOINT = 'localhost:8500'\n",
    "OBJECT_DETECTION_MODEL_SPEC = 'faster_rcnn_resnet50_coco'\n",
    "\n",
    "OUTPUT_VIDEO_FILENAME = BASE_PATH+'media/cocotest.mp4'\n",
    "OUTPUT_VIDEO_WIDTH = 320\n",
    "OUTPUT_VIDEO_HEIGHT = 240\n",
    "OUTPUT_VIDEO_FPS = 20.0\n",
    "\n",
    "\n",
    "LABELS = BASE_PATH+\"models/labels/coco-spanish.pb.txt\"\n",
    "\n",
    "ctx = {}\n",
    "\n",
    "vp = VideoProcessor()\n",
    "\n",
    "vp.process_video( \n",
    "    ctx,     \n",
    "    input_source = VideoFileInputSource(\n",
    "        filename=INPUT_VIDEO_FILENAME, start_frame=0, max_frames=100\n",
    "    ),    \n",
    "    layers =  [        \n",
    "        ObjectDetectionLayer(\n",
    "            endpoint = OBJECT_DETECTION_SERVICE_ENDPOINT,\n",
    "            model_spec_name = OBJECT_DETECTION_MODEL_SPEC        \n",
    "        ),\n",
    "        \n",
    "        DrawBoundingBoxesLayer(class_names_filename=LABELS),\n",
    "        \n",
    "        InfluxDBStatisticsLayer(),\n",
    "        #DebugLayer(),\n",
    "        ElasticSearchObjectDetectionIndexer(),\n",
    "        DisplayProgressLayer()\n",
    "    ]\n",
    ")"
   ]
  }
 ],
 "metadata": {
  "kernelspec": {
   "display_name": "Python 3",
   "language": "python",
   "name": "python3"
  },
  "language_info": {
   "codemirror_mode": {
    "name": "ipython",
    "version": 3
   },
   "file_extension": ".py",
   "mimetype": "text/x-python",
   "name": "python",
   "nbconvert_exporter": "python",
   "pygments_lexer": "ipython3",
   "version": "3.5.2"
  }
 },
 "nbformat": 4,
 "nbformat_minor": 2
}
