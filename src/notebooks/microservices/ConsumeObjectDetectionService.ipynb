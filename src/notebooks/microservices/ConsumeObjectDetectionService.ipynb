{
 "cells": [
  {
   "cell_type": "markdown",
   "metadata": {},
   "source": [
    "# Consume an Object Detection gRPC service"
   ]
  },
  {
   "cell_type": "code",
   "execution_count": 6,
   "metadata": {
    "scrolled": true
   },
   "outputs": [],
   "source": [
    "#!pip install tensorflow-serving-api==1.12"
   ]
  },
  {
   "cell_type": "code",
   "execution_count": 7,
   "metadata": {},
   "outputs": [],
   "source": [
    "import tensorflow as tf\n",
    "from tensorflow_serving.apis import predict_pb2\n",
    "from tensorflow_serving.apis import prediction_service_pb2_grpc\n",
    "import grpc\n",
    "from PIL import Image\n",
    "import numpy as np\n",
    "import requests\n",
    "import cv2"
   ]
  },
  {
   "cell_type": "code",
   "execution_count": 8,
   "metadata": {},
   "outputs": [],
   "source": [
    "def load_image_into_numpy_array(input_image):\n",
    "    image = Image.open(input_image)\n",
    "    (im_width, im_height) = image.size\n",
    "    image_arr = np.array(image.getdata()).reshape(\n",
    "        (im_height, im_width, 3)).astype(np.uint8)\n",
    "    image.close()\n",
    "    return image_arr\n",
    "\n",
    "def load_input_tensor(input_image):\n",
    "    image_np = load_image_into_numpy_array(input_image)\n",
    "    image_np_expanded = np.expand_dims(image_np, axis=0).astype(np.uint8)\n",
    "    tensor = tf.contrib.util.make_tensor_proto(image_np_expanded)\n",
    "    return tensor"
   ]
  },
  {
   "cell_type": "code",
   "execution_count": 9,
   "metadata": {
    "scrolled": false
   },
   "outputs": [],
   "source": [
    "SERVICE_ENDPOINT = 'localhost:8500'\n",
    "\n",
    "INPUT_IMAGE_FILENAME = \"../../media/test_image.jpeg\"\n",
    "\n",
    "channel = grpc.insecure_channel(SERVICE_ENDPOINT)\n",
    "\n",
    "# Send request\n",
    "# See prediction_service.proto for gRPC request/response details.\n",
    "request = predict_pb2.PredictRequest()\n",
    "request.model_spec.name = 'faster_rcnn_resnet50_coco'\n",
    "request.model_spec.signature_name = 'serving_default'\n",
    "input_tensor = load_input_tensor(INPUT_IMAGE_FILENAME)\n",
    "request.inputs['inputs'].CopyFrom(input_tensor)\n",
    "\n",
    "stub = prediction_service_pb2_grpc.PredictionServiceStub(channel)\n",
    "result = stub.Predict(request, 10.0)  # 10 secs timeout"
   ]
  },
  {
   "cell_type": "code",
   "execution_count": 10,
   "metadata": {
    "scrolled": true
   },
   "outputs": [
    {
     "data": {
      "text/plain": [
       "<Figure size 640x480 with 1 Axes>"
      ]
     },
     "metadata": {},
     "output_type": "display_data"
    },
    {
     "data": {
      "text/plain": [
       "(177, 284, 3)"
      ]
     },
     "execution_count": 10,
     "metadata": {},
     "output_type": "execute_result"
    }
   ],
   "source": [
    "import matplotlib.pyplot as plt\n",
    "\n",
    "image_np = load_image_into_numpy_array(INPUT_IMAGE_FILENAME)\n",
    "plt.imshow(image_np)\n",
    "plt.show()\n",
    "image_np.shape"
   ]
  },
  {
   "cell_type": "code",
   "execution_count": 11,
   "metadata": {},
   "outputs": [
    {
     "name": "stdout",
     "output_type": "stream",
     "text": [
      "Class:  1\n",
      "Score:  0.9993390440940857\n",
      "Box:  [ 93.25476837 195.30640316 153.74656963 215.07755589]\n",
      "Class:  1\n",
      "Score:  0.9967325925827026\n",
      "Box:  [ 95.84371215  96.94385397 137.81718618 110.24471617]\n",
      "Class:  1\n",
      "Score:  0.9931192398071289\n",
      "Box:  [ 89.22938633  47.4890613  145.92815924  64.66537666]\n",
      "Class:  1\n",
      "Score:  0.9870758652687073\n",
      "Box:  [105.76085955  64.38819373 140.46374363  87.97848535]\n",
      "Class:  1\n",
      "Score:  0.9396260976791382\n",
      "Box:  [124.99993265 106.06578708 144.10271001 129.12431133]\n",
      "Class:  1\n",
      "Score:  0.7845249772071838\n",
      "Box:  [124.29547602 157.39174867 144.10973632 164.96018267]\n"
     ]
    }
   ],
   "source": [
    "\n",
    "\n",
    "output_dict = {}\n",
    "output_dict[\"classes\"] = np.squeeze( result.outputs[\"detection_classes\"].float_val).astype(np.uint8)\n",
    "output_dict[\"detection_boxes\"] = np.reshape(result.outputs[\"detection_boxes\"].float_val, (-1, 4))\n",
    "output_dict[\"detection_scores\"] = np.squeeze(result.outputs[\"detection_scores\"].float_val)\n",
    "output_dict\n",
    "\n",
    "\n",
    "for i in range(len(output_dict[\"detection_scores\"])):\n",
    "    prob_ci = output_dict[\"detection_scores\"][i]\n",
    "    if prob_ci > 0.5: \n",
    "        print(\"Class: \", output_dict[\"classes\"][i])\n",
    "        print(\"Score: \", output_dict[\"detection_scores\"][i])\n",
    "        box =  output_dict[\"detection_boxes\"][i]\n",
    "        box[0] = box[0] * image_np.shape[0]\n",
    "        box[1] = box[1] * image_np.shape[1]\n",
    "        box[2] = box[2] * image_np.shape[0]\n",
    "        box[3] = box[3] * image_np.shape[1]\n",
    "        print(\"Box: \", box)\n",
    "\n",
    "#for b in output_dict[\"detection_boxes\"]:\n",
    "#    print(b)\n",
    "    \n"
   ]
  },
  {
   "cell_type": "markdown",
   "metadata": {},
   "source": [
    "## REST API\n",
    "\n",
    "Check model status and Predict signature."
   ]
  },
  {
   "cell_type": "code",
   "execution_count": 12,
   "metadata": {},
   "outputs": [
    {
     "data": {
      "text/plain": [
       "{'model_version_status': [{'state': 'AVAILABLE',\n",
       "   'status': {'error_code': 'OK', 'error_message': ''},\n",
       "   'version': '20180128'}]}"
      ]
     },
     "execution_count": 12,
     "metadata": {},
     "output_type": "execute_result"
    }
   ],
   "source": [
    "HOSTNAME=\"localhost\"\n",
    "MODEL=\"faster_rcnn_resnet50_coco\"\n",
    "REST_API_ENDPOINT='http://%s:8501/v1/models/%s' % (HOSTNAME, MODEL)\n",
    "\n",
    "r = requests.get(REST_API_ENDPOINT)\n",
    "r.json()"
   ]
  },
  {
   "cell_type": "code",
   "execution_count": 13,
   "metadata": {},
   "outputs": [
    {
     "data": {
      "text/plain": [
       "{'metadata': {'signature_def': {'signature_def': {'serving_default': {'inputs': {'inputs': {'dtype': 'DT_UINT8',\n",
       "       'name': 'image_tensor:0',\n",
       "       'tensor_shape': {'dim': [{'name': '', 'size': '-1'},\n",
       "         {'name': '', 'size': '-1'},\n",
       "         {'name': '', 'size': '-1'},\n",
       "         {'name': '', 'size': '3'}],\n",
       "        'unknown_rank': False}}},\n",
       "     'method_name': 'tensorflow/serving/predict',\n",
       "     'outputs': {'detection_boxes': {'dtype': 'DT_FLOAT',\n",
       "       'name': 'detection_boxes:0',\n",
       "       'tensor_shape': {'dim': [{'name': '', 'size': '-1'},\n",
       "         {'name': '', 'size': '100'},\n",
       "         {'name': '', 'size': '4'}],\n",
       "        'unknown_rank': False}},\n",
       "      'detection_classes': {'dtype': 'DT_FLOAT',\n",
       "       'name': 'detection_classes:0',\n",
       "       'tensor_shape': {'dim': [{'name': '', 'size': '-1'},\n",
       "         {'name': '', 'size': '100'}],\n",
       "        'unknown_rank': False}},\n",
       "      'detection_scores': {'dtype': 'DT_FLOAT',\n",
       "       'name': 'detection_scores:0',\n",
       "       'tensor_shape': {'dim': [{'name': '', 'size': '-1'},\n",
       "         {'name': '', 'size': '100'}],\n",
       "        'unknown_rank': False}},\n",
       "      'num_detections': {'dtype': 'DT_FLOAT',\n",
       "       'name': 'num_detections:0',\n",
       "       'tensor_shape': {'dim': [{'name': '', 'size': '-1'}],\n",
       "        'unknown_rank': False}}}}}}},\n",
       " 'model_spec': {'name': 'faster_rcnn_resnet50_coco',\n",
       "  'signature_name': '',\n",
       "  'version': '20180128'}}"
      ]
     },
     "execution_count": 13,
     "metadata": {},
     "output_type": "execute_result"
    }
   ],
   "source": [
    "r = requests.get(REST_API_ENDPOINT+\"/metadata\")\n",
    "r.json()"
   ]
  }
 ],
 "metadata": {
  "kernelspec": {
   "display_name": "Python 3",
   "language": "python",
   "name": "python3"
  },
  "language_info": {
   "codemirror_mode": {
    "name": "ipython",
    "version": 3
   },
   "file_extension": ".py",
   "mimetype": "text/x-python",
   "name": "python",
   "nbconvert_exporter": "python",
   "pygments_lexer": "ipython3",
   "version": "3.5.2"
  }
 },
 "nbformat": 4,
 "nbformat_minor": 2
}
