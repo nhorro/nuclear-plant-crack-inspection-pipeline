{
 "cells": [
  {
   "cell_type": "markdown",
   "metadata": {},
   "source": [
    "# InfluxDB access Test"
   ]
  },
  {
   "cell_type": "code",
   "execution_count": 1,
   "metadata": {},
   "outputs": [
    {
     "name": "stdout",
     "output_type": "stream",
     "text": [
      "Collecting influxdb\n",
      "\u001b[?25l  Downloading https://files.pythonhosted.org/packages/ef/02/da676b46a3c7b7387151554bd71a15d455ec512222f7f5171ae8607522aa/influxdb-5.2.3-py2.py3-none-any.whl (73kB)\n",
      "\u001b[K     |################################| 81kB 544kB/s eta 0:00:01\n",
      "\u001b[?25hRequirement already satisfied: six>=1.10.0 in /usr/local/lib/python3.5/dist-packages (from influxdb) (1.11.0)\n",
      "Requirement already satisfied: python-dateutil>=2.6.0 in /usr/local/lib/python3.5/dist-packages (from influxdb) (2.7.5)\n",
      "Requirement already satisfied: requests>=2.17.0 in /usr/local/lib/python3.5/dist-packages (from influxdb) (2.22.0)\n",
      "Requirement already satisfied: pytz in /usr/local/lib/python3.5/dist-packages (from influxdb) (2018.7)\n",
      "Requirement already satisfied: idna<2.9,>=2.5 in /usr/local/lib/python3.5/dist-packages (from requests>=2.17.0->influxdb) (2.8)\n",
      "Requirement already satisfied: certifi>=2017.4.17 in /usr/local/lib/python3.5/dist-packages (from requests>=2.17.0->influxdb) (2019.6.16)\n",
      "Requirement already satisfied: chardet<3.1.0,>=3.0.2 in /usr/local/lib/python3.5/dist-packages (from requests>=2.17.0->influxdb) (3.0.4)\n",
      "Requirement already satisfied: urllib3!=1.25.0,!=1.25.1,<1.26,>=1.21.1 in /usr/local/lib/python3.5/dist-packages (from requests>=2.17.0->influxdb) (1.25.3)\n",
      "Installing collected packages: influxdb\n",
      "Successfully installed influxdb-5.2.3\n",
      "\u001b[33mWARNING: You are using pip version 19.1.1, however version 19.2.3 is available.\n",
      "You should consider upgrading via the 'pip install --upgrade pip' command.\u001b[0m\n"
     ]
    }
   ],
   "source": [
    "!pip3 install influxdb"
   ]
  },
  {
   "cell_type": "code",
   "execution_count": 2,
   "metadata": {},
   "outputs": [],
   "source": [
    "from influxdb import InfluxDBClient"
   ]
  },
  {
   "cell_type": "code",
   "execution_count": 6,
   "metadata": {},
   "outputs": [],
   "source": [
    "client = InfluxDBClient(host='localhost', port=8086, database=\"my_application\")"
   ]
  },
  {
   "cell_type": "code",
   "execution_count": 7,
   "metadata": {},
   "outputs": [],
   "source": [
    "from datetime import datetime\n",
    "\n",
    "json_body = [\n",
    "    {\n",
    "        \"measurement\": \"TEST_MEASURENT1\",\n",
    "        \"time\": datetime.now(),\n",
    "        \"fields\": {\n",
    "            \"value\": 127\n",
    "        }\n",
    "    }\n",
    "]\n",
    "\n",
    "client.write_points(json_body)\n",
    "\n",
    "client.close()"
   ]
  }
 ],
 "metadata": {
  "kernelspec": {
   "display_name": "Python 3",
   "language": "python",
   "name": "python3"
  },
  "language_info": {
   "codemirror_mode": {
    "name": "ipython",
    "version": 3
   },
   "file_extension": ".py",
   "mimetype": "text/x-python",
   "name": "python",
   "nbconvert_exporter": "python",
   "pygments_lexer": "ipython3",
   "version": "3.5.2"
  }
 },
 "nbformat": 4,
 "nbformat_minor": 2
}
