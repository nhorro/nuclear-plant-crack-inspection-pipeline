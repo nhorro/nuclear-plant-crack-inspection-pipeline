{
 "cells": [
  {
   "cell_type": "markdown",
   "metadata": {},
   "source": [
    "# Consume Crack classifier as gRPC service"
   ]
  },
  {
   "cell_type": "code",
   "execution_count": 1,
   "metadata": {
    "scrolled": true
   },
   "outputs": [],
   "source": [
    "#!pip install tensorflow-serving-api==1.12"
   ]
  },
  {
   "cell_type": "code",
   "execution_count": 2,
   "metadata": {},
   "outputs": [],
   "source": [
    "HOSTNAME=\"localhost\"\n",
    "MODEL=\"febrero-cpu-friendly_weights\"\n",
    "INPUT_IMAGE_FILENAME = \"../../media/no_crack.jpg\"\n",
    "IMAGE_WIDTH=64\n",
    "IMAGE_HEIGHT=64"
   ]
  },
  {
   "cell_type": "code",
   "execution_count": 3,
   "metadata": {},
   "outputs": [],
   "source": [
    "def load_local_image(img_filename, w,h):\n",
    "    img = cv2.imread(img_filename)\n",
    "    img = cv2.cvtColor(img, cv2.COLOR_BGR2RGB) # fix color order (depends on OpenCV version)\n",
    "    return cv2.resize(img,(int(w),int(h)))"
   ]
  },
  {
   "cell_type": "markdown",
   "metadata": {},
   "source": [
    "## gRPC API"
   ]
  },
  {
   "cell_type": "code",
   "execution_count": 4,
   "metadata": {},
   "outputs": [],
   "source": [
    "import tensorflow as tf\n",
    "from tensorflow_serving.apis import predict_pb2\n",
    "from tensorflow_serving.apis import prediction_service_pb2_grpc\n",
    "import grpc\n",
    "from PIL import Image\n",
    "import numpy as np\n",
    "import requests\n",
    "import cv2"
   ]
  },
  {
   "cell_type": "code",
   "execution_count": 29,
   "metadata": {
    "scrolled": false
   },
   "outputs": [
    {
     "name": "stdout",
     "output_type": "stream",
     "text": [
      "p(crack)= 0.0 p(no_crack)= 1.0\n"
     ]
    }
   ],
   "source": [
    "def load_input_tensor(input_image):\n",
    "    image_np = load_local_image(input_image,IMAGE_WIDTH,IMAGE_HEIGHT)\n",
    "    image_np_expanded = np.expand_dims(image_np, axis=0).astype(np.float)\n",
    "    tensor = tf.contrib.util.make_tensor_proto(image_np_expanded, dtype=tf.float32,shape=[1,IMAGE_WIDTH, IMAGE_HEIGHT,3])\n",
    "    return tensor\n",
    "\n",
    "SERVICE_ENDPOINT = 'localhost:8500'\n",
    "channel = grpc.insecure_channel(SERVICE_ENDPOINT)\n",
    "\n",
    "# Send request\n",
    "# See prediction_service.proto for gRPC request/response details.\n",
    "request = predict_pb2.PredictRequest()\n",
    "request.model_spec.name = MODEL\n",
    "request.model_spec.signature_name = 'serving_default'\n",
    "input_tensor = load_input_tensor(INPUT_IMAGE_FILENAME)\n",
    "request.inputs['input_image'].CopyFrom(input_tensor)\n",
    "stub = prediction_service_pb2_grpc.PredictionServiceStub(channel)\n",
    "result = stub.Predict(request, 10.0)  # 10 secs timeout\n",
    "prob_crack = result.outputs[\"dense_12/Softmax:0\"].float_val[1]\n",
    "prob_nocrack = result.outputs[\"dense_12/Softmax:0\"].float_val[0]\n",
    "print(\"p(crack)=\",prob_crack, \"p(no_crack)=\",prob_nocrack)"
   ]
  },
  {
   "cell_type": "markdown",
   "metadata": {},
   "source": [
    "## REST API\n",
    "\n",
    "Check model status and Predict signature."
   ]
  },
  {
   "cell_type": "code",
   "execution_count": 6,
   "metadata": {},
   "outputs": [
    {
     "data": {
      "text/plain": [
       "{'model_version_status': [{'state': 'AVAILABLE',\n",
       "   'status': {'error_code': 'OK', 'error_message': ''},\n",
       "   'version': '1'}]}"
      ]
     },
     "execution_count": 6,
     "metadata": {},
     "output_type": "execute_result"
    }
   ],
   "source": [
    "REST_API_ENDPOINT='http://%s:8501/v1/models/%s' % (HOSTNAME, MODEL)\n",
    "\n",
    "r = requests.get(REST_API_ENDPOINT)\n",
    "r.json()"
   ]
  },
  {
   "cell_type": "code",
   "execution_count": 7,
   "metadata": {
    "scrolled": true
   },
   "outputs": [
    {
     "data": {
      "text/plain": [
       "{'metadata': {'signature_def': {'signature_def': {'serving_default': {'inputs': {'input_image': {'dtype': 'DT_FLOAT',\n",
       "       'name': 'conv2d_11_input:0',\n",
       "       'tensor_shape': {'dim': [{'name': '', 'size': '-1'},\n",
       "         {'name': '', 'size': '64'},\n",
       "         {'name': '', 'size': '64'},\n",
       "         {'name': '', 'size': '3'}],\n",
       "        'unknown_rank': False}}},\n",
       "     'method_name': 'tensorflow/serving/predict',\n",
       "     'outputs': {'dense_12/Softmax:0': {'dtype': 'DT_FLOAT',\n",
       "       'name': 'dense_12/Softmax:0',\n",
       "       'tensor_shape': {'dim': [{'name': '', 'size': '-1'},\n",
       "         {'name': '', 'size': '2'}],\n",
       "        'unknown_rank': False}}}}}}},\n",
       " 'model_spec': {'name': 'febrero-cpu-friendly_weights',\n",
       "  'signature_name': '',\n",
       "  'version': '1'}}"
      ]
     },
     "execution_count": 7,
     "metadata": {},
     "output_type": "execute_result"
    }
   ],
   "source": [
    "r = requests.get(REST_API_ENDPOINT+\"/metadata\")\n",
    "r.json()"
   ]
  },
  {
   "cell_type": "markdown",
   "metadata": {},
   "source": [
    "Make a predicition."
   ]
  },
  {
   "cell_type": "code",
   "execution_count": 8,
   "metadata": {},
   "outputs": [
    {
     "name": "stdout",
     "output_type": "stream",
     "text": [
      "{'predictions': [[1.0, 0.0]]}\n"
     ]
    }
   ],
   "source": [
    "img = load_local_image(INPUT_IMAGE_FILENAME,IMAGE_WIDTH,IMAGE_HEIGHT)\n",
    "r = requests.post(REST_API_ENDPOINT+':predict', json={\"instances\": [{'input_image': img.tolist()}]})\n",
    "result = r.json()\n",
    "print(result)"
   ]
  }
 ],
 "metadata": {
  "kernelspec": {
   "display_name": "Python 3",
   "language": "python",
   "name": "python3"
  },
  "language_info": {
   "codemirror_mode": {
    "name": "ipython",
    "version": 3
   },
   "file_extension": ".py",
   "mimetype": "text/x-python",
   "name": "python",
   "nbconvert_exporter": "python",
   "pygments_lexer": "ipython3",
   "version": "3.5.2"
  }
 },
 "nbformat": 4,
 "nbformat_minor": 2
}
