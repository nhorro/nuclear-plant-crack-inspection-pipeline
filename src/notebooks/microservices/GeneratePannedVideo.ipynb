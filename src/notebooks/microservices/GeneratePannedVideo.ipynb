{
 "cells": [
  {
   "cell_type": "markdown",
   "metadata": {},
   "source": [
    "# Generate panned video from HighRes video\n",
    "Original video: https://www.youtube.com/watch?v=nKpsxtnGS1o"
   ]
  },
  {
   "cell_type": "code",
   "execution_count": 1,
   "metadata": {},
   "outputs": [],
   "source": [
    "%load_ext autoreload\n",
    "%autoreload 2"
   ]
  },
  {
   "cell_type": "code",
   "execution_count": 2,
   "metadata": {},
   "outputs": [],
   "source": [
    "import cv2\n",
    "import numpy as np\n",
    "import matplotlib.pyplot as plt"
   ]
  },
  {
   "cell_type": "code",
   "execution_count": 3,
   "metadata": {},
   "outputs": [],
   "source": [
    "import sys\n",
    "sys.path.append(\"../components\")\n",
    "\n",
    "from videoinput.filevideoinput import VideoFileInputSource\n",
    "from layers.videoprocessinglayers import VideoProcessingLayer\n",
    "from layers.panner import PannerLayer\n",
    "from layers.progress import DisplayProgressLayer\n",
    "from layers.resizer import ResizerLayer\n",
    "from layers.tensorflowobjectdetection import ObjectDetectionLayer,DrawBoundingBoxesLayer\n",
    "from layers.writer import WriterLayer\n",
    "\n",
    "from videoprocessor import VideoProcessor"
   ]
  },
  {
   "cell_type": "code",
   "execution_count": 4,
   "metadata": {},
   "outputs": [],
   "source": [
    "class DebugLayer(VideoProcessingLayer):\n",
    "    def __init__(self):\n",
    "        VideoProcessingLayer.__init__(self)\n",
    "        pass\n",
    "    \n",
    "    def setup(self, ctx):\n",
    "        pass\n",
    "    \n",
    "    def process(self, ctx):\n",
    "        plt.figure(figsize = (40,20))\n",
    "        plt.imshow(ctx[\"OUTPUT_FRAME\"], interpolation=\"nearest\" )\n",
    "        pass\n",
    "    \n",
    "    def release(self, ctx):\n",
    "        pass"
   ]
  },
  {
   "cell_type": "code",
   "execution_count": 5,
   "metadata": {},
   "outputs": [],
   "source": [
    "class DrawStatisticsLayer(VideoProcessingLayer):\n",
    "    def __init__(self):\n",
    "        VideoProcessingLayer.__init__(self)\n",
    "        pass\n",
    "    \n",
    "    def setup(self, ctx):\n",
    "        pass\n",
    "    \n",
    "    def process(self, ctx):\n",
    "        cv2.putText(\n",
    "             ctx[\"OUTPUT_FRAME\"], \n",
    "             \"%d [%d,%d]\" % (\n",
    "                 ctx[\"INPUT_CURR_FRAME\"], \n",
    "                 ctx[\"PANNER_X0\"],\n",
    "                 ctx[\"PANNER_Y0\"]\n",
    "             ), \n",
    "             (5, ctx[\"OUTPUT_H\"]-10), \n",
    "             cv2.FONT_HERSHEY_SIMPLEX, \n",
    "             0.4, \n",
    "             (255, 255, 255)\n",
    "        )\n",
    "        pass\n",
    "    \n",
    "    def release(self, ctx):\n",
    "        pass"
   ]
  },
  {
   "cell_type": "markdown",
   "metadata": {},
   "source": [
    "## Video Panner Test"
   ]
  },
  {
   "cell_type": "code",
   "execution_count": 10,
   "metadata": {},
   "outputs": [],
   "source": [
    "# Parameters\n",
    "INPUT_VIDEO_FILENAME = '../../media/Downtown Intersections Time Lapse 4K.mp4'\n",
    "\n",
    "OBJECT_DETECTION_SERVICE_ENDPOINT = 'localhost:8500'\n",
    "OBJECT_DETECTION_MODEL_SPEC = 'faster_rcnn_resnet50_coco'\n",
    "\n",
    "OUTPUT_VIDEO_FILENAME = '../../media/downtown0.mp4'\n",
    "OUTPUT_VIDEO_WIDTH = 320\n",
    "OUTPUT_VIDEO_HEIGHT = 240\n",
    "OUTPUT_VIDEO_FPS = 20.0\n",
    "\n",
    "LABELS = \"../../models/labels/coco-spanish.pb.txt\""
   ]
  },
  {
   "cell_type": "code",
   "execution_count": 13,
   "metadata": {
    "scrolled": true
   },
   "outputs": [
    {
     "name": "stdout",
     "output_type": "stream",
     "text": [
      "Progress: [####################] Frame 100/100\n",
      "Generated video:  ../../media/downtown0.mp4\n",
      "Processing finished\n"
     ]
    }
   ],
   "source": [
    "ctx = {}\n",
    "\n",
    "vp = VideoProcessor()\n",
    "\n",
    "\n",
    "vp.process_video( \n",
    "    ctx,     \n",
    "    input_source = VideoFileInputSource(\n",
    "        filename=INPUT_VIDEO_FILENAME, start_frame=0, max_frames=100\n",
    "    ),    \n",
    "    layers =  [\n",
    "        \n",
    "        PannerLayer(\n",
    "            x0=190,\n",
    "            y0=790,\n",
    "            dx=1,\n",
    "            dy=0,\n",
    "            output_w = OUTPUT_VIDEO_WIDTH,\n",
    "            output_h = OUTPUT_VIDEO_HEIGHT\n",
    "        ),\n",
    "        \n",
    "        ObjectDetectionLayer(\n",
    "            endpoint = OBJECT_DETECTION_SERVICE_ENDPOINT,\n",
    "            model_spec_name = OBJECT_DETECTION_MODEL_SPEC        \n",
    "        ),\n",
    "        \n",
    "        DrawBoundingBoxesLayer(class_names_filename=LABELS),\n",
    "        \n",
    "        DrawStatisticsLayer(),\n",
    "        \n",
    "        #DebugLayer(),\n",
    "        \n",
    "        WriterLayer(\n",
    "            filename = OUTPUT_VIDEO_FILENAME,            \n",
    "            w = OUTPUT_VIDEO_WIDTH,\n",
    "            h = OUTPUT_VIDEO_HEIGHT,\n",
    "            fps = OUTPUT_VIDEO_FPS\n",
    "        ),\n",
    "        \n",
    "        DisplayProgressLayer()\n",
    "    ]\n",
    ")"
   ]
  },
  {
   "cell_type": "markdown",
   "metadata": {},
   "source": [
    "## Video Test"
   ]
  },
  {
   "cell_type": "code",
   "execution_count": null,
   "metadata": {
    "scrolled": true
   },
   "outputs": [],
   "source": [
    "# Parameters\n",
    "INPUT_VIDEO_FILENAME = '../../media/bariloche_15_julio_2017.mp4'\n",
    "\n",
    "OBJECT_DETECTION_SERVICE_ENDPOINT = 'localhost:8500'\n",
    "OBJECT_DETECTION_MODEL_SPEC = 'faster_rcnn_resnet50_coco'\n",
    "\n",
    "OUTPUT_VIDEO_FILENAME = '../../media/cocotest.mp4'\n",
    "OUTPUT_VIDEO_WIDTH = 640\n",
    "OUTPUT_VIDEO_HEIGHT = 480\n",
    "OUTPUT_VIDEO_FPS = 20.0\n",
    "\n",
    "ctx = {}\n",
    "process_video( \n",
    "    ctx, \n",
    "    input_source = VideoFileInputSource(\n",
    "        filename=INPUT_VIDEO_FILENAME, \n",
    "        start_frame=0, \n",
    "        max_frames=5),    \n",
    "    layers = [        \n",
    "        ResizerLayer(OUTPUT_VIDEO_WIDTH,OUTPUT_VIDEO_HEIGHT),\n",
    "        ObjectDetectionLayer(\n",
    "            endpoint = OBJECT_DETECTION_SERVICE_ENDPOINT,\n",
    "            model_spec_name = OBJECT_DETECTION_MODEL_SPEC        \n",
    "        ),\n",
    "        DrawBoundingBoxesLayer(class_names_filename=\"coco.pb.txt\"),\n",
    "        #DrawStatisticsLayer(),\n",
    "        #DebugLayer(),        \n",
    "        WriterLayer( filename = OUTPUT_VIDEO_FILENAME, w = OUTPUT_VIDEO_WIDTH, h = OUTPUT_VIDEO_HEIGHT, fps = OUTPUT_VIDEO_FPS),\n",
    "        DisplayProgressLayer()\n",
    "    ] \n",
    ")"
   ]
  },
  {
   "cell_type": "code",
   "execution_count": 1,
   "metadata": {},
   "outputs": [
    {
     "name": "stdout",
     "output_type": "stream",
     "text": [
      "Collecting tensorflow-serving-api==1.12.0\n",
      "  Downloading https://files.pythonhosted.org/packages/79/69/1e724c0d98f12b12f9ad583a3df7750e14ec5f06069aa4be8d75a2ab9bb8/tensorflow_serving_api-1.12.0-py2.py3-none-any.whl\n",
      "Requirement already satisfied: grpcio>=1.0<2 in /usr/local/lib/python3.5/dist-packages (from tensorflow-serving-api==1.12.0) (1.16.0)\n",
      "Requirement already satisfied: protobuf>=3.6.0 in /usr/local/lib/python3.5/dist-packages (from tensorflow-serving-api==1.12.0) (3.6.1)\n",
      "Collecting tensorflow<2,>=1.2.0 (from tensorflow-serving-api==1.12.0)\n",
      "\u001b[?25l  Downloading https://files.pythonhosted.org/packages/7c/fb/7b2c5b3e85ad335b53ca67deb2ef4af574dc0a8759f43b7f45e15005e449/tensorflow-1.14.0-cp35-cp35m-manylinux1_x86_64.whl (109.2MB)\n",
      "\u001b[K     |################################| 109.2MB 338kB/s eta 0:00:01\n",
      "\u001b[?25hRequirement already satisfied: six>=1.5.2 in /usr/local/lib/python3.5/dist-packages (from grpcio>=1.0<2->tensorflow-serving-api==1.12.0) (1.11.0)\n",
      "Requirement already satisfied: setuptools in /usr/local/lib/python3.5/dist-packages (from protobuf>=3.6.0->tensorflow-serving-api==1.12.0) (40.5.0)\n",
      "Requirement already satisfied: keras-applications>=1.0.6 in /usr/local/lib/python3.5/dist-packages (from tensorflow<2,>=1.2.0->tensorflow-serving-api==1.12.0) (1.0.6)\n",
      "Requirement already satisfied: numpy<2.0,>=1.14.5 in /usr/local/lib/python3.5/dist-packages (from tensorflow<2,>=1.2.0->tensorflow-serving-api==1.12.0) (1.15.4)\n",
      "Collecting wrapt>=1.11.1 (from tensorflow<2,>=1.2.0->tensorflow-serving-api==1.12.0)\n",
      "  Downloading https://files.pythonhosted.org/packages/23/84/323c2415280bc4fc880ac5050dddfb3c8062c2552b34c2e512eb4aa68f79/wrapt-1.11.2.tar.gz\n",
      "Requirement already satisfied: termcolor>=1.1.0 in /usr/local/lib/python3.5/dist-packages (from tensorflow<2,>=1.2.0->tensorflow-serving-api==1.12.0) (1.1.0)\n",
      "Requirement already satisfied: keras-preprocessing>=1.0.5 in /usr/local/lib/python3.5/dist-packages (from tensorflow<2,>=1.2.0->tensorflow-serving-api==1.12.0) (1.0.5)\n",
      "Collecting tensorflow-estimator<1.15.0rc0,>=1.14.0rc0 (from tensorflow<2,>=1.2.0->tensorflow-serving-api==1.12.0)\n",
      "\u001b[?25l  Downloading https://files.pythonhosted.org/packages/3c/d5/21860a5b11caf0678fbc8319341b0ae21a07156911132e0e71bffed0510d/tensorflow_estimator-1.14.0-py2.py3-none-any.whl (488kB)\n",
      "\u001b[K     |################################| 491kB 918kB/s eta 0:00:01\n",
      "\u001b[?25hRequirement already satisfied: astor>=0.6.0 in /usr/local/lib/python3.5/dist-packages (from tensorflow<2,>=1.2.0->tensorflow-serving-api==1.12.0) (0.7.1)\n",
      "Collecting tensorboard<1.15.0,>=1.14.0 (from tensorflow<2,>=1.2.0->tensorflow-serving-api==1.12.0)\n",
      "\u001b[?25l  Downloading https://files.pythonhosted.org/packages/91/2d/2ed263449a078cd9c8a9ba50ebd50123adf1f8cfbea1492f9084169b89d9/tensorboard-1.14.0-py3-none-any.whl (3.1MB)\n",
      "\u001b[K     |################################| 3.2MB 859kB/s eta 0:00:01\n",
      "\u001b[?25hRequirement already satisfied: wheel>=0.26 in /usr/local/lib/python3.5/dist-packages (from tensorflow<2,>=1.2.0->tensorflow-serving-api==1.12.0) (0.32.2)\n",
      "Collecting absl-py>=0.7.0 (from tensorflow<2,>=1.2.0->tensorflow-serving-api==1.12.0)\n",
      "\u001b[?25l  Downloading https://files.pythonhosted.org/packages/3b/72/e6e483e2db953c11efa44ee21c5fdb6505c4dffa447b4263ca8af6676b62/absl-py-0.8.1.tar.gz (103kB)\n",
      "\u001b[K     |################################| 112kB 860kB/s eta 0:00:01\n",
      "\u001b[?25hCollecting google-pasta>=0.1.6 (from tensorflow<2,>=1.2.0->tensorflow-serving-api==1.12.0)\n",
      "\u001b[?25l  Downloading https://files.pythonhosted.org/packages/d0/33/376510eb8d6246f3c30545f416b2263eee461e40940c2a4413c711bdf62d/google_pasta-0.1.7-py3-none-any.whl (52kB)\n",
      "\u001b[K     |################################| 61kB 5.7MB/s eta 0:00:011\n",
      "\u001b[?25hRequirement already satisfied: gast>=0.2.0 in /usr/local/lib/python3.5/dist-packages (from tensorflow<2,>=1.2.0->tensorflow-serving-api==1.12.0) (0.2.0)\n",
      "Requirement already satisfied: h5py in /usr/local/lib/python3.5/dist-packages (from keras-applications>=1.0.6->tensorflow<2,>=1.2.0->tensorflow-serving-api==1.12.0) (2.8.0)\n",
      "Requirement already satisfied: werkzeug>=0.11.15 in /usr/local/lib/python3.5/dist-packages (from tensorboard<1.15.0,>=1.14.0->tensorflow<2,>=1.2.0->tensorflow-serving-api==1.12.0) (0.14.1)\n",
      "Requirement already satisfied: markdown>=2.6.8 in /usr/local/lib/python3.5/dist-packages (from tensorboard<1.15.0,>=1.14.0->tensorflow<2,>=1.2.0->tensorflow-serving-api==1.12.0) (3.0.1)\n",
      "Building wheels for collected packages: wrapt, absl-py\n",
      "  Building wheel for wrapt (setup.py) ... \u001b[?25ldone\n",
      "\u001b[?25h  Stored in directory: /root/.cache/pip/wheels/d7/de/2e/efa132238792efb6459a96e85916ef8597fcb3d2ae51590dfd\n",
      "  Building wheel for absl-py (setup.py) ... \u001b[?25ldone\n",
      "\u001b[?25h  Stored in directory: /root/.cache/pip/wheels/a7/15/a0/0a0561549ad11cdc1bc8fa1191a353efd30facf6bfb507aefc\n",
      "Successfully built wrapt absl-py\n",
      "\u001b[31mERROR: tensorflow-gpu 1.12.0 has requirement tensorboard<1.13.0,>=1.12.0, but you'll have tensorboard 1.14.0 which is incompatible.\u001b[0m\n",
      "\u001b[31mERROR: tensorboard 1.14.0 has requirement setuptools>=41.0.0, but you'll have setuptools 40.5.0 which is incompatible.\u001b[0m\n",
      "Installing collected packages: wrapt, tensorflow-estimator, absl-py, tensorboard, google-pasta, tensorflow, tensorflow-serving-api\n",
      "  Found existing installation: absl-py 0.6.1\n",
      "    Uninstalling absl-py-0.6.1:\n",
      "      Successfully uninstalled absl-py-0.6.1\n",
      "  Found existing installation: tensorboard 1.12.0\n",
      "    Uninstalling tensorboard-1.12.0:\n",
      "      Successfully uninstalled tensorboard-1.12.0\n",
      "Successfully installed absl-py-0.8.1 google-pasta-0.1.7 tensorboard-1.14.0 tensorflow-1.14.0 tensorflow-estimator-1.14.0 tensorflow-serving-api-1.12.0 wrapt-1.11.2\n",
      "\u001b[33mWARNING: You are using pip version 19.1.1, however version 19.2.3 is available.\n",
      "You should consider upgrading via the 'pip install --upgrade pip' command.\u001b[0m\n"
     ]
    }
   ],
   "source": [
    "!pip install tensorflow-serving-api==1.12.0\n",
    "!pip install grpcio-tools\n",
    "!python3 -m grpc_tools.protoc -I=. --python_out=. LabelMap.proto"
   ]
  },
  {
   "cell_type": "code",
   "execution_count": null,
   "metadata": {},
   "outputs": [],
   "source": [
    "!pip install grpcio-tools\n",
    "!python3 -m grpc_tools.protoc -I=. --python_out=. LabelMap.proto"
   ]
  }
 ],
 "metadata": {
  "kernelspec": {
   "display_name": "Python 3",
   "language": "python",
   "name": "python3"
  },
  "language_info": {
   "codemirror_mode": {
    "name": "ipython",
    "version": 3
   },
   "file_extension": ".py",
   "mimetype": "text/x-python",
   "name": "python",
   "nbconvert_exporter": "python",
   "pygments_lexer": "ipython3",
   "version": "3.5.2"
  }
 },
 "nbformat": 4,
 "nbformat_minor": 2
}
